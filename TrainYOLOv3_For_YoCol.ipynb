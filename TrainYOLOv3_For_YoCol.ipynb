{
  "nbformat": 4,
  "nbformat_minor": 0,
  "metadata": {
    "colab": {
      "name": "TrainYOLOv3ForYoCol.ipynb",
      "version": "0.3.2",
      "provenance": [],
      "collapsed_sections": [],
      "include_colab_link": true
    },
    "kernelspec": {
      "name": "python3",
      "display_name": "Python 3"
    },
    "accelerator": "GPU"
  },
  "cells": [
    {
      "cell_type": "markdown",
      "metadata": {
        "id": "view-in-github",
        "colab_type": "text"
      },
      "source": [
        "<a href=\"https://colab.research.google.com/github/Oskop/YoCol/blob/master/TrainYOLOv3_For_YoCol.ipynb\" target=\"_parent\"><img src=\"https://colab.research.google.com/assets/colab-badge.svg\" alt=\"Open In Colab\"/></a>"
      ]
    },
    {
      "cell_type": "markdown",
      "metadata": {
        "id": "9hLmHrgkdgLA",
        "colab_type": "text"
      },
      "source": [
        "# Training YOLOv3 From Scratch with Darknet"
      ]
    },
    {
      "cell_type": "code",
      "metadata": {
        "id": "RYxndAs_dYid",
        "colab_type": "code",
        "colab": {}
      },
      "source": [
        "!git clone https://github.com/Oskop/YoCol"
      ],
      "execution_count": 0,
      "outputs": []
    },
    {
      "cell_type": "markdown",
      "metadata": {
        "id": "A-1xgy1QfYZw",
        "colab_type": "text"
      },
      "source": [
        "## Setup Environment For Darknet"
      ]
    },
    {
      "cell_type": "markdown",
      "metadata": {
        "id": "AkUV_R7A6NgM",
        "colab_type": "text"
      },
      "source": [
        "Since Google Colab has pre-installed CUDA 10, then we can skip CUDA configuration and go to next step"
      ]
    },
    {
      "cell_type": "code",
      "metadata": {
        "id": "w3bQuj4vemVo",
        "colab_type": "code",
        "colab": {}
      },
      "source": [
        "#Installing compilers\n",
        "!apt install gcc-5 g++-5 -y"
      ],
      "execution_count": 0,
      "outputs": []
    },
    {
      "cell_type": "code",
      "metadata": {
        "id": "O3QDRKB0g9W3",
        "colab_type": "code",
        "colab": {}
      },
      "source": [
        "!ln -s /usr/bin/gcc-5 /usr/local/cuda/bin/gcc \n",
        "!ln -s /usr/bin/g++-5 /usr/local/cuda/bin/g++"
      ],
      "execution_count": 0,
      "outputs": []
    },
    {
      "cell_type": "code",
      "metadata": {
        "id": "msnPo5t-hEo1",
        "colab_type": "code",
        "colab": {}
      },
      "source": [
        "#Changing the variables to include OpenCV and GPU in the Makefile\n",
        "% cd /content/YoCol/darknet/\n",
        "!sed -i 's/OPENCV=0/OPENCV=1/g' Makefile\n",
        "!sed -i 's/GPU=0/GPU=1/g' Makefile\n",
        "#!sed -i 's/CUDNN=0/CUDNN=1/g' Makefile if you want to use cudnn"
      ],
      "execution_count": 0,
      "outputs": []
    },
    {
      "cell_type": "code",
      "metadata": {
        "id": "jd1BU4QfhMKe",
        "colab_type": "code",
        "colab": {}
      },
      "source": [
        "# Apparently we need to install this so that OpenCV can work without any issues\n",
        "# when we are making the file\n",
        "!apt-get install libopencv-dev"
      ],
      "execution_count": 0,
      "outputs": []
    },
    {
      "cell_type": "markdown",
      "metadata": {
        "id": "mibkWf-0h4BD",
        "colab_type": "text"
      },
      "source": [
        "## Get Dataset"
      ]
    },
    {
      "cell_type": "markdown",
      "metadata": {
        "id": "W8Ju4jVPAeAE",
        "colab_type": "text"
      },
      "source": [
        "### Download and Extract Challenge Dataset"
      ]
    },
    {
      "cell_type": "markdown",
      "metadata": {
        "id": "gEBGN2m_svDb",
        "colab_type": "text"
      },
      "source": [
        "Downloading and extracting Standford car dataset and extracting to /content"
      ]
    },
    {
      "cell_type": "code",
      "metadata": {
        "id": "6y1Chofrh7ZV",
        "colab_type": "code",
        "colab": {}
      },
      "source": [
        "%cd /content\n",
        "!wget http://imagenet.stanford.edu/internal/car196/cars_train.tgz\n",
        "!wget http://imagenet.stanford.edu/internal/car196/cars_test.tgz\n",
        "!wget https://ai.stanford.edu/~jkrause/cars/car_devkit.tgz\n",
        "!tar zxf car_devkit.tgz\n",
        "!tar zxf cars_train.tgz\n",
        "!tar zxf cars_test.tgz\n",
        "!wget http://imagenet.stanford.edu/internal/car196/cars_test_annos_withlabels.mat -O devkit/cars_test_annos_withlabels.mat"
      ],
      "execution_count": 0,
      "outputs": []
    },
    {
      "cell_type": "markdown",
      "metadata": {
        "id": "-RbpEdd8uJ5W",
        "colab_type": "text"
      },
      "source": [
        "###Download and Extract COCO Dataset"
      ]
    },
    {
      "cell_type": "markdown",
      "metadata": {
        "id": "_Anx1Bn0nu7p",
        "colab_type": "text"
      },
      "source": [
        "Include COCO dataset that handled with get_coco_dataset.sh script so we don't need to convert label format from COCO format to YOLOv3 format. This step is an optional so you can skip if you think there's no need to including COCO dataset into training process. But if you not include COCO dataset, then you must use yolov3.weights from official site to continue the training process because the number of classes for this config is including COCO 80 classes"
      ]
    },
    {
      "cell_type": "code",
      "metadata": {
        "id": "qKiDc5IqqUC-",
        "colab_type": "code",
        "colab": {}
      },
      "source": [
        "%cd /content/YoCol/darknet\n",
        "!sh scripts/get_coco_dataset.sh"
      ],
      "execution_count": 0,
      "outputs": []
    },
    {
      "cell_type": "code",
      "metadata": {
        "id": "J793KmInh2gP",
        "colab_type": "code",
        "colab": {}
      },
      "source": [
        "%cd /content/YoCol/darknet/coco\n",
        "!paste <(awk \"{pri!nt \\\"$PWD\\\"}\" <5k.part) 5k.part | tr -d '\\t' > 5k.txt\n",
        "!paste <(awk \"{print \\\"$PWD\\\"}\" <trainvalno5k.part) trainvalno5k.part | tr -d '\\t' > trainvalno5k.txt\n",
        "%cd /content"
      ],
      "execution_count": 0,
      "outputs": []
    },
    {
      "cell_type": "markdown",
      "metadata": {
        "id": "D4jRPnT9kfE7",
        "colab_type": "text"
      },
      "source": [
        "### Labeling"
      ]
    },
    {
      "cell_type": "markdown",
      "metadata": {
        "id": "Bvnc7yMSSxdg",
        "colab_type": "text"
      },
      "source": [
        "We load the MATLAB annotations file first, then adding to a new dictionary that store both the Standford labels and COCO labels."
      ]
    },
    {
      "cell_type": "code",
      "metadata": {
        "id": "7csAF3-adjBr",
        "colab_type": "code",
        "colab": {}
      },
      "source": [
        "%cd /content\n",
        "import scipy.io as scio\n",
        "import os\n",
        "import cv2\n",
        "matlab_train_label = scio.loadmat('devkit/cars_train_annos.mat')\n",
        "matlab_test_label = scio.loadmat('devkit/cars_test_annos_withlabels.mat')\n",
        "YOLO_CLASS = 79\n",
        "TRAIN_IMAGE_PATH = '/content/cars_train/'\n",
        "TEST_IMAGE_PATH = '/content/cars_test/'"
      ],
      "execution_count": 0,
      "outputs": []
    },
    {
      "cell_type": "code",
      "metadata": {
        "id": "BkHxOlv4To5C",
        "colab_type": "code",
        "colab": {}
      },
      "source": [
        "# Store train labels data to another list for easy calling data\n",
        "file_names_train = matlab_train_label['annotations']['fname'][0]\n",
        "obj_classes_train = matlab_train_label['annotations']['class'][0]\n",
        "bboxes_x1_train = matlab_train_label['annotations']['bbox_x1'][0]\n",
        "bboxes_x2_train = matlab_train_label['annotations']['bbox_x2'][0]\n",
        "bboxes_y1_train = matlab_train_label['annotations']['bbox_y1'][0]\n",
        "bboxes_y2_train = matlab_train_label['annotations']['bbox_y2'][0]"
      ],
      "execution_count": 0,
      "outputs": []
    },
    {
      "cell_type": "code",
      "metadata": {
        "id": "7V0lEM85Tpr5",
        "colab_type": "code",
        "colab": {}
      },
      "source": [
        "# Store test labels data to another list for easy calling data\n",
        "file_names_test = matlab_test_label['annotations']['fname'][0] \n",
        "obj_classes_test = matlab_test_label['annotations']['class'][0]\n",
        "bboxes_x1_test = matlab_test_label['annotations']['bbox_x1'][0]\n",
        "bboxes_x2_test = matlab_test_label['annotations']['bbox_x2'][0]\n",
        "bboxes_y1_test = matlab_test_label['annotations']['bbox_y1'][0]\n",
        "bboxes_y2_test = matlab_test_label['annotations']['bbox_y2'][0]"
      ],
      "execution_count": 0,
      "outputs": []
    },
    {
      "cell_type": "code",
      "metadata": {
        "id": "rREnElU5kqGk",
        "colab_type": "code",
        "colab": {}
      },
      "source": [
        "# load labels that i've already annotate to train and test\n",
        "# standford images with YOLOv3 (contain 80 classes of COCO classes,\n",
        "# 196 classes from Sandford classes are not include in this data.json file)\n",
        "import json\n",
        "cars_make_model_label = open('/content/YoCol/data.json', 'r')\n",
        "standford_label = json.load(cars_make_model_label)\n",
        "standford_label['00001.jpg']"
      ],
      "execution_count": 0,
      "outputs": []
    },
    {
      "cell_type": "code",
      "metadata": {
        "id": "yiKWCM45TXar",
        "colab_type": "code",
        "colab": {}
      },
      "source": [
        "# Initialize dictionary that will contain all label from both labels data\n",
        "for names in standford_label:\n",
        "  all_label[names] = []"
      ],
      "execution_count": 0,
      "outputs": []
    },
    {
      "cell_type": "code",
      "metadata": {
        "id": "1-VBmD_-VmBO",
        "colab_type": "code",
        "colab": {}
      },
      "source": [
        "# Changing test label file name from \"file_names_test\" list to adjust\n",
        "# the key format from data.json\n",
        "for name in file_names_test:\n",
        "  for file_name in name:\n",
        "    if (int(file_name.split('.')[0])+8144) < 10000:\n",
        "      new_name = '0' + str(int(file_name.split('.')[0]) + 8144) + '.jpg'\n",
        "      name[0] = new_name\n",
        "      os.rename(TEST_IMAGE_PATH + file_name, TEST_IMAGE_PATH + new_name)\n",
        "    else:\n",
        "      new_name = str(int(file_name.split('.')[0]) + 8144) + '.jpg'\n",
        "      name[0] = new_name\n",
        "      os.rename(TEST_IMAGE_PATH + file_name, TEST_IMAGE_PATH + new_name)"
      ],
      "execution_count": 0,
      "outputs": []
    },
    {
      "cell_type": "code",
      "metadata": {
        "id": "mbfS4z3nRdyb",
        "colab_type": "code",
        "colab": {}
      },
      "source": [
        "# Looping into train labels data and change its format to YOLO annotation format\n",
        "for (i, name) in enumerate(file_names_train):\n",
        "  file_name = name[0]\n",
        "  image = cv2.imread(TRAIN_IMAGE_PATH + file_name)\n",
        "  height = image.shape[0]\n",
        "  width = image.shape[1]\n",
        "  if image.shape[1] >= 300:\n",
        "      obj_class = str(obj_classes[i][0][0] + YOLO_CLASS)\n",
        "      x1 = float(bboxes_x1_train[i][0])\n",
        "      x2 = float(bboxes_x2_train[i][0])\n",
        "      y1 = float(bboxes_y1_train[i][0])\n",
        "      y2 = float(bboxes_y2_train[i][0])\n",
        "      x_center = str(((x2-x1) / 2) / width)\n",
        "      y_center = str(((y2-y1) / 2) / height)\n",
        "      obj_width = str((x2-x1) / width)\n",
        "      obj_height = str((y2-y1) / height)\n",
        "      all_label[file_name].append(obj_class + ' ' + x_center + ' ' + y_center + \n",
        "                                  ' ' + obj_width + ' ' + obj_height)"
      ],
      "execution_count": 0,
      "outputs": []
    },
    {
      "cell_type": "code",
      "metadata": {
        "id": "vM8gBLFtR5kp",
        "colab_type": "code",
        "colab": {}
      },
      "source": [
        "# Looping into test labels data and change its format to YOLO annotation format\n",
        "for (i, name) in enumerate(file_names_test):\n",
        "  file_name2 = name[0]\n",
        "  image = cv2.imread(TEST_IMAGE_PATH + file_name2)\n",
        "  height = image.shape[0]\n",
        "  width = image.shape[1]\n",
        "  if image.shape[1] >= 300:\n",
        "      obj_class = str(obj_classes[i][0][0] + YOLO_CLASS)\n",
        "      x1 = float(bboxes_x1_test[i][0])\n",
        "      x2 = float(bboxes_x2_test[i][0])\n",
        "      y1 = float(bboxes_y1_test[i][0])\n",
        "      y2 = float(bboxes_y2_test[i][0])\n",
        "      x_center = str(((x2-x1) / 2) / width)\n",
        "      y_center = str(((y2-y1) / 2) / height)\n",
        "      obj_width = str((x2-x1) / width)\n",
        "      obj_height = str((y2-y1) / height)\n",
        "      all_label[file_name2].append(obj_class + ' ' + x_center + ' ' + y_center + \n",
        "                                  ' ' + obj_width + ' ' + obj_height)"
      ],
      "execution_count": 0,
      "outputs": []
    },
    {
      "cell_type": "code",
      "metadata": {
        "id": "5XhDtBL8SV9G",
        "colab_type": "code",
        "colab": {}
      },
      "source": [
        "# Loop over standford_label and adjust annotation format to YOLO format\n",
        "import cv2\n",
        "for file_name in standford_label:\n",
        "#   if file_name in train_file_directory:\n",
        "  for bbox in standford_label[file_name]:\n",
        "    image = cv2.imread(TRAIN_IMAGE_PATH + file_name)\n",
        "    height = image.shape[0]\n",
        "    width = image.shape[1]\n",
        "    if bbox[0] < 0:\n",
        "      left = 0\n",
        "    else:\n",
        "      left = bbox[0]\n",
        "    if bbox[1] < 0:\n",
        "      top = 0\n",
        "    else:\n",
        "      top = bbox[1]\n",
        "    if bbox[2] < 0:\n",
        "      right = 1\n",
        "    else:\n",
        "      right = bbox[2]\n",
        "    if bbox[3] < 0:\n",
        "      bottom = 1\n",
        "    else:\n",
        "      bottom = bbox[3]\n",
        "    x_center = str(((right - left) / 2) / width)\n",
        "    y_center = str(((bottom - top) / 2) / height)\n",
        "    obj_width = str((right - left) / width)\n",
        "    obj_height = str((bottom - top) / height)\n",
        "    obj_class = str(bbox[4])\n",
        "    all_label[file_name].append(obj_class + ' ' + x_center + ' ' + y_center\n",
        "                                + ' ' + obj_width + ' ' + obj_height)"
      ],
      "execution_count": 0,
      "outputs": []
    },
    {
      "cell_type": "markdown",
      "metadata": {
        "id": "-DAZ_xme67Zs",
        "colab_type": "text"
      },
      "source": [
        "Then we move COCO Training and Validation images and its labels into Standford Images Directory. Labels data are moved to image directory because darknet will detect our label in same directory as images"
      ]
    },
    {
      "cell_type": "code",
      "metadata": {
        "id": "01S3xkKoz73X",
        "colab_type": "code",
        "colab": {}
      },
      "source": [
        "# Moving COCO Images into Standford Images Directory\n",
        "!mv /content/YoCol/darknet/coco/images/train2014/* /content/cars_train\n",
        "!mv /content/YoCol/darknet/coco/images/val2014/* /content/casr_test"
      ],
      "execution_count": 0,
      "outputs": []
    },
    {
      "cell_type": "code",
      "metadata": {
        "id": "Ti1b8NM35QF2",
        "colab_type": "code",
        "colab": {}
      },
      "source": [
        "# # Moving COCO Labels into Standford Images Directory\n",
        "!mv /content/YoCol/darknet/coco/labels/train2014/* /content/cars_train\n",
        "!mv /content/YoCol/darknet/coco/labels/val2014/* /content/cars_test"
      ],
      "execution_count": 0,
      "outputs": []
    },
    {
      "cell_type": "markdown",
      "metadata": {
        "id": "ay5moePX82up",
        "colab_type": "text"
      },
      "source": [
        "Darknet need to a list file of image file path that will be passes to darknet for training and validation"
      ]
    },
    {
      "cell_type": "code",
      "metadata": {
        "id": "fGpShQi31BB-",
        "colab_type": "code",
        "colab": {}
      },
      "source": [
        "# Make list file of train and test image file path\n",
        "train_images_list = os.listdir(TRAIN_IMAGE_PATH)\n",
        "test_images_list = os.listdir(TEST_IMAGE_PATH)\n",
        "train_list_file = open('/content/train_list.txt', 'w')\n",
        "test_list_file = open('/content/test_list.txt', 'w')\n",
        "for img_name in train_images_list:\n",
        "  train_list_file.write(TRAIN_IMAGE_PATH + img_name + '\\n')\n",
        "for img_name2 in test_images_list:\n",
        "  test_list_file.write(TEST_IMAGE_PATH + img_name2 + '\\n')"
      ],
      "execution_count": 0,
      "outputs": []
    },
    {
      "cell_type": "code",
      "metadata": {
        "id": "zfVUq_Qo3yZJ",
        "colab_type": "code",
        "colab": {}
      },
      "source": [
        "# Then we start labelling Standford Dataset based on labels data that stored in\n",
        "# \"all_label\" dictionary\n",
        "for name in all_label:\n",
        "  if int(name[:-4]) < 8145 :\n",
        "    label_file = open(TRAIN_IMAGE_PATH + name[:-4] + '.txt', 'w')\n",
        "  else:\n",
        "    label_file = open(TEST_IMAGE_PATH + name[:-4] + '.txt', 'w')\n",
        "  for label in all_label[name]:\n",
        "    label_file.write(label + '\\n')"
      ],
      "execution_count": 0,
      "outputs": []
    },
    {
      "cell_type": "markdown",
      "metadata": {
        "id": "Waq6FzMx5PqW",
        "colab_type": "text"
      },
      "source": [
        "##Setting before Training for Yolov3"
      ]
    },
    {
      "cell_type": "markdown",
      "metadata": {
        "id": "JhFfVndw-BnP",
        "colab_type": "text"
      },
      "source": [
        "Darknet need some configuration file befor training YOLO model that had \".data\" extension. This file contains some configuration such as where darknet must take list file of training and validation, classes names that will use for YOLO, and path to store .weights file"
      ]
    },
    {
      "cell_type": "code",
      "metadata": {
        "id": "KbhmIIvF5UrP",
        "colab_type": "code",
        "colab": {}
      },
      "source": [
        "!mkdir /content/weight\n",
        "dat = \"\"\"classes = 196\n",
        "train = /content/train_list.txt\n",
        "valid = /content/test_list.txt\n",
        "names = /content/YoCol/data/yocol.names\n",
        "backup = /content/\"\"\"\n",
        "with open('/content/darknet.data','w') as dark:\n",
        "  dark.write(dat)"
      ],
      "execution_count": 0,
      "outputs": []
    },
    {
      "cell_type": "markdown",
      "metadata": {
        "id": "ak-2SGhL_xEJ",
        "colab_type": "text"
      },
      "source": [
        "####Compile Darknet"
      ]
    },
    {
      "cell_type": "code",
      "metadata": {
        "id": "DaL6rmY196AA",
        "colab_type": "code",
        "colab": {}
      },
      "source": [
        "%cd /content/YoCol/darknet\n",
        "!make\n",
        "#Check if darknet is installed properly\n",
        "!./darknet detector help"
      ],
      "execution_count": 0,
      "outputs": []
    },
    {
      "cell_type": "markdown",
      "metadata": {
        "id": "VBPAxHeI7B_f",
        "colab_type": "text"
      },
      "source": [
        "##Start Training Yolov3"
      ]
    },
    {
      "cell_type": "markdown",
      "metadata": {
        "id": "Dtp73noL5zsJ",
        "colab_type": "text"
      },
      "source": [
        "The training is start from scratch because we include both dataset and want to not only detect Standford Car classes name but also 80 COCO classes name"
      ]
    },
    {
      "cell_type": "code",
      "metadata": {
        "id": "ac9O1wgu8_wM",
        "colab_type": "code",
        "colab": {}
      },
      "source": [
        "%cd /content/YoCol/darknet/\n",
        "!./darknet detector train /content/darknet.data cfg/yolov3.cfg &> /dev/null"
      ],
      "execution_count": 0,
      "outputs": []
    }
  ]
}